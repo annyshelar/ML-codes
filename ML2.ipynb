{
  "nbformat": 4,
  "nbformat_minor": 0,
  "metadata": {
    "colab": {
      "provenance": []
    },
    "kernelspec": {
      "name": "python3",
      "display_name": "Python 3"
    },
    "language_info": {
      "name": "python"
    }
  },
  "cells": [
    {
      "cell_type": "code",
      "execution_count": null,
      "metadata": {
        "id": "NkldqF7vuAaW"
      },
      "outputs": [],
      "source": [
        "import pandas as pd\n",
        "import numpy as np\n",
        "import seaborn as sns\n",
        "import matplotlib.pyplot as plt\n",
        "%matplotlib inline\n",
        "import warnings\n",
        "warnings.filterwarnings('ignore')\n",
        "from sklearn.model_selection import train_test_split\n",
        "from sklearn.svm import SVC\n",
        "from sklearn import metrics"
      ]
    },
    {
      "cell_type": "code",
      "source": [
        "df=pd.read_csv('emails.csv')"
      ],
      "metadata": {
        "id": "I5Nr3ugGuSHA"
      },
      "execution_count": null,
      "outputs": []
    },
    {
      "cell_type": "code",
      "source": [
        "df.head()"
      ],
      "metadata": {
        "id": "V9A8LmWfuSKK"
      },
      "execution_count": null,
      "outputs": []
    },
    {
      "cell_type": "code",
      "source": [
        "df.columns"
      ],
      "metadata": {
        "id": "WJ8ds3A-uSNL"
      },
      "execution_count": null,
      "outputs": []
    },
    {
      "cell_type": "code",
      "source": [
        "df.isnull().sum()"
      ],
      "metadata": {
        "id": "i0giWfbJuSQm"
      },
      "execution_count": null,
      "outputs": []
    },
    {
      "cell_type": "code",
      "source": [
        "df.dropna(inplace = True)"
      ],
      "metadata": {
        "id": "DF-I5RxXuXPf"
      },
      "execution_count": null,
      "outputs": []
    },
    {
      "cell_type": "code",
      "source": [
        "df.drop(['Email No.'],axis=1,inplace=True)\n",
        "X = df.drop(['Prediction'],axis = 1)\n",
        "y = df['Prediction']"
      ],
      "metadata": {
        "id": "aFFM6thbuXSY"
      },
      "execution_count": null,
      "outputs": []
    },
    {
      "cell_type": "code",
      "source": [
        "from sklearn.preprocessing import scale\n",
        "X = scale(X)\n",
        "# split into train and test\n",
        "X_train, X_test, y_train, y_test = train_test_split(X, y, test_size = 0.3, random_state = 42)"
      ],
      "metadata": {
        "id": "AxmcP-wKuXVC"
      },
      "execution_count": null,
      "outputs": []
    },
    {
      "cell_type": "markdown",
      "source": [
        "##KNN classifier"
      ],
      "metadata": {
        "id": "FxYcYhdzumct"
      }
    },
    {
      "cell_type": "code",
      "source": [
        "from sklearn.neighbors import KNeighborsClassifier\n",
        "knn = KNeighborsClassifier(n_neighbors=7)\n",
        "\n",
        "knn.fit(X_train, y_train)\n",
        "y_pred = knn.predict(X_test)"
      ],
      "metadata": {
        "id": "qCO5m_m1uXXv"
      },
      "execution_count": null,
      "outputs": []
    },
    {
      "cell_type": "code",
      "source": [
        "print(\"Prediction\",y_pred)"
      ],
      "metadata": {
        "id": "kgKEso2vuXan"
      },
      "execution_count": null,
      "outputs": []
    },
    {
      "cell_type": "code",
      "source": [
        "print(\"KNN accuracy = \",metrics.accuracy_score(y_test,y_pred))"
      ],
      "metadata": {
        "id": "PPQU5BgOuXd6"
      },
      "execution_count": null,
      "outputs": []
    },
    {
      "cell_type": "code",
      "source": [
        "print(\"Confusion matrix\",metrics.confusion_matrix(y_test,y_pred))"
      ],
      "metadata": {
        "id": "CR6RwXyOuwxG"
      },
      "execution_count": null,
      "outputs": []
    },
    {
      "cell_type": "markdown",
      "source": [
        "SVM classifier"
      ],
      "metadata": {
        "id": "ShOn_uiMu0X0"
      }
    },
    {
      "cell_type": "code",
      "source": [
        "# cost C = 1\n",
        "model = SVC(C = 1)\n",
        "\n",
        "# fit\n",
        "model.fit(X_train, y_train)\n",
        "\n",
        "# predict\n",
        "y_pred = model.predict(X_test)"
      ],
      "metadata": {
        "id": "JymnAg1gu2wa"
      },
      "execution_count": null,
      "outputs": []
    },
    {
      "cell_type": "code",
      "source": [
        "metrics.confusion_matrix(y_true=y_test, y_pred=y_pred)"
      ],
      "metadata": {
        "id": "GL1FMvFfu5Hj"
      },
      "execution_count": null,
      "outputs": []
    },
    {
      "cell_type": "code",
      "source": [
        "print(\"SVM accuracy = \",metrics.accuracy_score(y_test,y_pred))"
      ],
      "metadata": {
        "id": "XSu_EtsTu8OX"
      },
      "execution_count": null,
      "outputs": []
    }
  ]
}