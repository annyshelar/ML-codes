{
  "nbformat": 4,
  "nbformat_minor": 0,
  "metadata": {
    "colab": {
      "provenance": []
    },
    "kernelspec": {
      "name": "python3",
      "display_name": "Python 3"
    },
    "language_info": {
      "name": "python"
    }
  },
  "cells": [
    {
      "cell_type": "code",
      "execution_count": null,
      "metadata": {
        "id": "pzZuftoBwf0L"
      },
      "outputs": [],
      "source": [
        "import pandas as pd\n",
        "import numpy as np\n",
        "import seaborn as sns\n",
        "import matplotlib.pyplot as plt #Importing the libraries"
      ]
    },
    {
      "cell_type": "code",
      "source": [
        "df = pd.read_csv(\"Churn_Modelling.csv\")"
      ],
      "metadata": {
        "id": "pZCsWtxTwjmR"
      },
      "execution_count": null,
      "outputs": []
    },
    {
      "cell_type": "markdown",
      "source": [
        "Preprocessing"
      ],
      "metadata": {
        "id": "_SIhcAGZwvL2"
      }
    },
    {
      "cell_type": "code",
      "source": [
        "df.head()"
      ],
      "metadata": {
        "id": "ErV1IHdgwt-8"
      },
      "execution_count": null,
      "outputs": []
    },
    {
      "cell_type": "code",
      "source": [
        "df.shape"
      ],
      "metadata": {
        "id": "qtyMiC4vw1Sr"
      },
      "execution_count": null,
      "outputs": []
    },
    {
      "cell_type": "code",
      "source": [
        "df.describe()"
      ],
      "metadata": {
        "id": "Qq-lPa_Qw3vj"
      },
      "execution_count": null,
      "outputs": []
    },
    {
      "cell_type": "code",
      "source": [
        "df.isnull()"
      ],
      "metadata": {
        "id": "OdYMsOcjw3y6"
      },
      "execution_count": null,
      "outputs": []
    },
    {
      "cell_type": "code",
      "source": [
        "df.isnull().sum()"
      ],
      "metadata": {
        "id": "f89kpGpNw32o"
      },
      "execution_count": null,
      "outputs": []
    },
    {
      "cell_type": "code",
      "source": [
        "df.info()"
      ],
      "metadata": {
        "id": "9W9qDagGw352"
      },
      "execution_count": null,
      "outputs": []
    },
    {
      "cell_type": "code",
      "source": [
        "df.dtypes"
      ],
      "metadata": {
        "id": "z5NCdwGyw39A"
      },
      "execution_count": null,
      "outputs": []
    },
    {
      "cell_type": "code",
      "source": [
        "df.columns"
      ],
      "metadata": {
        "id": "OxSheStxw3_o"
      },
      "execution_count": null,
      "outputs": []
    },
    {
      "cell_type": "code",
      "source": [
        "df = df.drop(['RowNumber', 'Surname', 'CustomerId'], axis= 1) #Dropping the unnecessary columns"
      ],
      "metadata": {
        "id": "jVSi2_nKw4CI"
      },
      "execution_count": null,
      "outputs": []
    },
    {
      "cell_type": "code",
      "source": [
        "df.head()"
      ],
      "metadata": {
        "id": "rdBfp9j2w4EV"
      },
      "execution_count": null,
      "outputs": []
    },
    {
      "cell_type": "markdown",
      "source": [
        "Visualization"
      ],
      "metadata": {
        "id": "rhzwJDT6xKGa"
      }
    },
    {
      "cell_type": "code",
      "source": [
        "def visualization(x, y, xlabel):\n",
        "    plt.figure(figsize=(10,5))\n",
        "    plt.hist([x, y], color=['red', 'green'], label = ['exit', 'not_exit'])\n",
        "    plt.xlabel(xlabel,fontsize=20)\n",
        "    plt.ylabel(\"No. of customers\", fontsize=20)\n",
        "    plt.legend()"
      ],
      "metadata": {
        "id": "S_F0PxRsw4G7"
      },
      "execution_count": null,
      "outputs": []
    },
    {
      "cell_type": "code",
      "source": [
        "df_churn_exited = df[df['Exited']==1]['Tenure']\n",
        "df_churn_not_exited = df[df['Exited']==0]['Tenure']"
      ],
      "metadata": {
        "id": "m47Ked9aw4KE"
      },
      "execution_count": null,
      "outputs": []
    },
    {
      "cell_type": "code",
      "source": [
        "visualization(df_churn_exited, df_churn_not_exited, \"Tenure\")"
      ],
      "metadata": {
        "id": "VrbnJhEkw4Mf"
      },
      "execution_count": null,
      "outputs": []
    },
    {
      "cell_type": "code",
      "source": [
        "df_churn_exited2 = df[df['Exited']==1]['Age']\n",
        "df_churn_not_exited2 = df[df['Exited']==0]['Age']"
      ],
      "metadata": {
        "id": "IL-CiE8Bw4Oo"
      },
      "execution_count": null,
      "outputs": []
    },
    {
      "cell_type": "code",
      "source": [
        "visualization(df_churn_exited2, df_churn_not_exited2, \"Age\")"
      ],
      "metadata": {
        "id": "CT60TRQ5w4RY"
      },
      "execution_count": null,
      "outputs": []
    },
    {
      "cell_type": "markdown",
      "source": [
        "Converting the Categorical variables"
      ],
      "metadata": {
        "id": "wiJZycrXxbJc"
      }
    },
    {
      "cell_type": "code",
      "source": [
        "X = df[['CreditScore','Gender','Age','Tenure','Balance','NumOfProducts','HasCrCard','IsActiveMember','EstimatedSalary']]\n",
        "states = pd.get_dummies(df['Geography'],drop_first = True)\n",
        "gender = pd.get_dummies(df['Gender'],drop_first = True)"
      ],
      "metadata": {
        "id": "fgxAPzfnxf9R"
      },
      "execution_count": null,
      "outputs": []
    },
    {
      "cell_type": "code",
      "source": [
        "df = pd.concat([df,gender,states], axis = 1)"
      ],
      "metadata": {
        "id": "In1-1eBwxkUi"
      },
      "execution_count": null,
      "outputs": []
    },
    {
      "cell_type": "markdown",
      "source": [
        "Splitting the training and testing Dataset"
      ],
      "metadata": {
        "id": "T4-oiY7vxpuG"
      }
    },
    {
      "cell_type": "code",
      "source": [
        "df.head()"
      ],
      "metadata": {
        "id": "3CfCdv7Qxn9u"
      },
      "execution_count": null,
      "outputs": []
    },
    {
      "cell_type": "code",
      "source": [
        "X = df[['CreditScore','Age','Tenure','Balance','NumOfProducts','HasCrCard','IsActiveMember','EstimatedSalary','Male','Germany','Spain']]"
      ],
      "metadata": {
        "id": "SLwMULICxoGm"
      },
      "execution_count": null,
      "outputs": []
    },
    {
      "cell_type": "code",
      "source": [
        "y = df['Exited']"
      ],
      "metadata": {
        "id": "pbjo74wXxoJc"
      },
      "execution_count": null,
      "outputs": []
    },
    {
      "cell_type": "code",
      "source": [
        "from sklearn.model_selection import train_test_split\n",
        "X_train,X_test,y_train,y_test = train_test_split(X,y,test_size = 0.30)"
      ],
      "metadata": {
        "id": "M0e2Abo2xoL2"
      },
      "execution_count": null,
      "outputs": []
    },
    {
      "cell_type": "markdown",
      "source": [
        "Normalizing the values with mean as 0 and standard Deviation as 1"
      ],
      "metadata": {
        "id": "NSN_dI1qx13W"
      }
    },
    {
      "cell_type": "code",
      "source": [
        "from sklearn.preprocessing import StandardScaler\n",
        "sc = StandardScaler()"
      ],
      "metadata": {
        "id": "GBrbHEhJyj1k"
      },
      "execution_count": null,
      "outputs": []
    },
    {
      "cell_type": "code",
      "source": [
        "X_train  = sc.fit_transform(X_train)\n",
        "X_test = sc.transform(X_test)"
      ],
      "metadata": {
        "id": "TGv7qZe7xoPX"
      },
      "execution_count": null,
      "outputs": []
    },
    {
      "cell_type": "code",
      "source": [
        "X_train"
      ],
      "metadata": {
        "id": "tjvUZ4a9xkh9"
      },
      "execution_count": null,
      "outputs": []
    },
    {
      "cell_type": "code",
      "source": [
        "X_test"
      ],
      "metadata": {
        "id": "Kh7YiWsvyqpW"
      },
      "execution_count": null,
      "outputs": []
    },
    {
      "cell_type": "markdown",
      "source": [
        "Building the Classifiers Model using Keras"
      ],
      "metadata": {
        "id": "_8fIPvi9ysFO"
      }
    },
    {
      "cell_type": "code",
      "source": [
        "import keras #Keras is the wrapper on the top of tenserflow\n",
        "#Can use Tenserflow as well but won't be able to understand the errors initially."
      ],
      "metadata": {
        "id": "TkEYVxRvy1Hp"
      },
      "execution_count": null,
      "outputs": []
    },
    {
      "cell_type": "code",
      "source": [
        "from keras.models import Sequential #To create sequential neural network\n",
        "from keras.layers import Dense #To create hidden layers"
      ],
      "metadata": {
        "id": "y_BujWGjzZH_"
      },
      "execution_count": null,
      "outputs": []
    },
    {
      "cell_type": "code",
      "source": [
        "classifier = Sequential()"
      ],
      "metadata": {
        "id": "wP5XPTgVzZZc"
      },
      "execution_count": null,
      "outputs": []
    },
    {
      "cell_type": "code",
      "source": [
        "#To add the layers\n",
        "#Dense helps to contruct the neurons\n",
        "#Input Dimension means we have 11 features\n",
        "# Units is to create the hidden layers\n",
        "#Uniform helps to distribute the weight uniformly\n",
        "classifier.add(Dense(activation = \"relu\",input_dim = 11,units = 6,kernel_initializer = \"uniform\"))"
      ],
      "metadata": {
        "id": "mup1n3Mszfij"
      },
      "execution_count": null,
      "outputs": []
    },
    {
      "cell_type": "code",
      "source": [
        "classifier.add(Dense(activation = \"relu\",units = 6,kernel_initializer = \"uniform\"))   #Adding second hidden layers"
      ],
      "metadata": {
        "id": "rtIWRxCfziiv"
      },
      "execution_count": null,
      "outputs": []
    },
    {
      "cell_type": "code",
      "source": [
        "classifier.add(Dense(activation = \"relu\",units = 6,kernel_initializer = \"uniform\"))   #Adding second hidden layers"
      ],
      "metadata": {
        "id": "VXQ9kkeUzlBw"
      },
      "execution_count": null,
      "outputs": []
    },
    {
      "cell_type": "code",
      "source": [
        "classifier.add(Dense(activation = \"sigmoid\",units = 1,kernel_initializer = \"uniform\")) #Final neuron will be having siigmoid function"
      ],
      "metadata": {
        "id": "bbaod4EUzoz8"
      },
      "execution_count": null,
      "outputs": []
    },
    {
      "cell_type": "code",
      "source": [
        "classifier.compile(optimizer=\"adam\",loss = 'binary_crossentropy',metrics = ['accuracy']) #To compile the Artificial Neural Network. Ussed Binary crossentropy as we just have only two output"
      ],
      "metadata": {
        "id": "xxlslsy4zrXg"
      },
      "execution_count": null,
      "outputs": []
    },
    {
      "cell_type": "code",
      "source": [
        "classifier.summary() #3 layers created. 6 neurons in 1st,6neurons in 2nd layer and 1 neuron in last"
      ],
      "metadata": {
        "id": "0qdP2J6sztrr"
      },
      "execution_count": null,
      "outputs": []
    },
    {
      "cell_type": "code",
      "source": [
        "classifier.fit(X_train,y_train,batch_size=10,epochs=50) #Fitting the ANN to training dataset"
      ],
      "metadata": {
        "id": "oe7HlU01zwaj"
      },
      "execution_count": null,
      "outputs": []
    },
    {
      "cell_type": "code",
      "source": [
        "y_pred =classifier.predict(X_test)\n",
        "y_pred = (y_pred > 0.5) #Predicting the result"
      ],
      "metadata": {
        "id": "RVaajeNrzzDA"
      },
      "execution_count": null,
      "outputs": []
    },
    {
      "cell_type": "code",
      "source": [
        "from sklearn.metrics import confusion_matrix,accuracy_score,classification_report"
      ],
      "metadata": {
        "id": "EGr-qsaRzzJ5"
      },
      "execution_count": null,
      "outputs": []
    },
    {
      "cell_type": "code",
      "source": [
        "cm = confusion_matrix(y_test,y_pred)"
      ],
      "metadata": {
        "id": "UWCYffspzzL_"
      },
      "execution_count": null,
      "outputs": []
    },
    {
      "cell_type": "code",
      "source": [
        "cm"
      ],
      "metadata": {
        "id": "WeOP-XDbz4fw"
      },
      "execution_count": null,
      "outputs": []
    },
    {
      "cell_type": "code",
      "source": [
        "accuracy = accuracy_score(y_test,y_pred)"
      ],
      "metadata": {
        "id": "V7btEV1Wz6qI"
      },
      "execution_count": null,
      "outputs": []
    },
    {
      "cell_type": "code",
      "source": [
        "accuracy"
      ],
      "metadata": {
        "id": "Cn1vsd-Jz8T5"
      },
      "execution_count": null,
      "outputs": []
    },
    {
      "cell_type": "code",
      "source": [
        "plt.figure(figsize = (10,7))\n",
        "sns.heatmap(cm,annot = True)\n",
        "plt.xlabel('Predicted')\n",
        "plt.ylabel('Truth')"
      ],
      "metadata": {
        "id": "M5R0fGdNz-J6"
      },
      "execution_count": null,
      "outputs": []
    },
    {
      "cell_type": "code",
      "source": [
        "print(classification_report(y_test,y_pred))"
      ],
      "metadata": {
        "id": "IOW5hQGB0AU5"
      },
      "execution_count": null,
      "outputs": []
    },
    {
      "cell_type": "markdown",
      "source": [
        "import keras #Keras is the wrapper on the top of tenserflow\n",
        "#Can use Tenserflow as well but won't be able to understand the errors initially."
      ],
      "metadata": {
        "id": "0QDQKYk4yxhz"
      }
    },
    {
      "cell_type": "markdown",
      "source": [],
      "metadata": {
        "id": "pwrv0LxbwzBG"
      }
    }
  ]
}