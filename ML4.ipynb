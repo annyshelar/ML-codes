{
  "nbformat": 4,
  "nbformat_minor": 0,
  "metadata": {
    "colab": {
      "provenance": []
    },
    "kernelspec": {
      "name": "python3",
      "display_name": "Python 3"
    },
    "language_info": {
      "name": "python"
    }
  },
  "cells": [
    {
      "cell_type": "code",
      "execution_count": null,
      "metadata": {
        "id": "dvdZkmgK1ETg"
      },
      "outputs": [],
      "source": [
        "current_x = 2 # The algorithm starts at x=3\n",
        "rate = 0.01 # Learning rate\n",
        "precision = 0.000001 #This tells us when to stop the algorithm\n",
        "previous_step_size = 1\n",
        "max_iters = 10000 # maximum number of iterations\n",
        "iters = 0 #iteration counter\n",
        "df = lambda x: 2*(x+3) #Gradient of our function"
      ]
    },
    {
      "cell_type": "code",
      "source": [
        "while previous_step_size > precision and iters < max_iters: #When Previous Step SIze will be less than Precision then we will reach the global maxima\n",
        "    previous_x = current_x #Store current x value in prev_x\n",
        "    current_x = current_x - rate * df(previous_x) #Grad descent\n",
        "    previous_step_size = abs(current_x - previous_x) #Change in x\n",
        "    iters = iters+1 #iteration count\n",
        "    print(\"Iteration\",iters,\"\\nX value is\",current_x) #Print iterations\n",
        "\n",
        "print(\"The local minimum occurs at\", current_x)"
      ],
      "metadata": {
        "id": "Sijo61EB1ZZF"
      },
      "execution_count": null,
      "outputs": []
    }
  ]
}